{
 "cells": [
  {
   "cell_type": "code",
   "execution_count": 37,
   "metadata": {
    "collapsed": false
   },
   "outputs": [],
   "source": [
    "import sys\n",
    "sys.path.append('C:\\Anaconda3\\Lib\\site-packages')\n",
    "\n",
    "%matplotlib inline\n",
    "import numpy as np\n",
    "import scipy as sp\n",
    "import matplotlib as mpl\n",
    "import matplotlib.cm as cm\n",
    "import matplotlib.pyplot as plt\n",
    "import matplotlib.dates as dates\n",
    "import datetime\n",
    "import pandas as pd\n",
    "import time\n",
    "import glob\n",
    "\n",
    "# For sorting lists of tuples\n",
    "import operator\n",
    "\n",
    "import seaborn as sns\n",
    "sns.set_style('whitegrid',{'grid.linestyle': '--', 'grid.color': '0.9', 'axes.edgecolor': '0.3'})\n",
    "sns.set_context('poster')"
   ]
  },
  {
   "cell_type": "markdown",
   "metadata": {},
   "source": [
    "### Load .csv file with NHL win data and create a dataframe"
   ]
  },
  {
   "cell_type": "code",
   "execution_count": 3,
   "metadata": {
    "collapsed": false
   },
   "outputs": [
    {
     "name": "stdout",
     "output_type": "stream",
     "text": [
      "Opening the file:  ./WOI_game_tables\\war-on-ice-2016-04-12 17-47-47.csv\n"
     ]
    }
   ],
   "source": [
    "# Make sure to get the most recent one if multiple exist\n",
    "filename = glob.glob('./WOI_game_tables/war-on-ice-2016*')[0]\n",
    "print('Opening the file: ',filename)"
   ]
  },
  {
   "cell_type": "code",
   "execution_count": 70,
   "metadata": {
    "collapsed": false
   },
   "outputs": [
    {
     "data": {
      "text/html": [
       "<div>\n",
       "<table border=\"1\" class=\"dataframe\">\n",
       "  <thead>\n",
       "    <tr style=\"text-align: right;\">\n",
       "      <th></th>\n",
       "      <th>season</th>\n",
       "      <th>session</th>\n",
       "      <th>gamenumber</th>\n",
       "      <th>gcode</th>\n",
       "      <th>status</th>\n",
       "      <th>awayteam</th>\n",
       "      <th>hometeam</th>\n",
       "      <th>awayscore</th>\n",
       "      <th>homescore</th>\n",
       "      <th>date</th>\n",
       "      <th>game.start</th>\n",
       "      <th>game.end</th>\n",
       "      <th>periods</th>\n",
       "      <th>seconds</th>\n",
       "      <th>awaycorsi</th>\n",
       "      <th>homecorsi</th>\n",
       "      <th>awayafteraway</th>\n",
       "      <th>awayafterhome</th>\n",
       "      <th>homeafteraway</th>\n",
       "      <th>homeafterhome</th>\n",
       "    </tr>\n",
       "    <tr>\n",
       "      <th>Unnamed: 0</th>\n",
       "      <th></th>\n",
       "      <th></th>\n",
       "      <th></th>\n",
       "      <th></th>\n",
       "      <th></th>\n",
       "      <th></th>\n",
       "      <th></th>\n",
       "      <th></th>\n",
       "      <th></th>\n",
       "      <th></th>\n",
       "      <th></th>\n",
       "      <th></th>\n",
       "      <th></th>\n",
       "      <th></th>\n",
       "      <th></th>\n",
       "      <th></th>\n",
       "      <th></th>\n",
       "      <th></th>\n",
       "      <th></th>\n",
       "      <th></th>\n",
       "    </tr>\n",
       "  </thead>\n",
       "  <tbody>\n",
       "    <tr>\n",
       "      <th>13556</th>\n",
       "      <td>20152016</td>\n",
       "      <td>Regular</td>\n",
       "      <td>716</td>\n",
       "      <td>20716</td>\n",
       "      <td>Complete</td>\n",
       "      <td>PHI</td>\n",
       "      <td>NYI</td>\n",
       "      <td>5</td>\n",
       "      <td>2</td>\n",
       "      <td>2016-04-10</td>\n",
       "      <td>7:09 EDT</td>\n",
       "      <td>9:27 EDT</td>\n",
       "      <td>3</td>\n",
       "      <td>3600</td>\n",
       "      <td>47</td>\n",
       "      <td>33</td>\n",
       "      <td>0</td>\n",
       "      <td>0</td>\n",
       "      <td>1</td>\n",
       "      <td>0</td>\n",
       "    </tr>\n",
       "    <tr>\n",
       "      <th>13544</th>\n",
       "      <td>20152016</td>\n",
       "      <td>Regular</td>\n",
       "      <td>704</td>\n",
       "      <td>20704</td>\n",
       "      <td>Complete</td>\n",
       "      <td>ANA</td>\n",
       "      <td>WSH</td>\n",
       "      <td>2</td>\n",
       "      <td>0</td>\n",
       "      <td>2016-04-10</td>\n",
       "      <td>7:46 EDT</td>\n",
       "      <td>10:08 EDT</td>\n",
       "      <td>3</td>\n",
       "      <td>3600</td>\n",
       "      <td>45</td>\n",
       "      <td>56</td>\n",
       "      <td>0</td>\n",
       "      <td>0</td>\n",
       "      <td>0</td>\n",
       "      <td>0</td>\n",
       "    </tr>\n",
       "    <tr>\n",
       "      <th>14070</th>\n",
       "      <td>20152016</td>\n",
       "      <td>Regular</td>\n",
       "      <td>1230</td>\n",
       "      <td>21230</td>\n",
       "      <td>Complete</td>\n",
       "      <td>ARI</td>\n",
       "      <td>S.J</td>\n",
       "      <td>0</td>\n",
       "      <td>1</td>\n",
       "      <td>2016-04-09</td>\n",
       "      <td>7:38 PDT</td>\n",
       "      <td>9:57 PDT</td>\n",
       "      <td>3</td>\n",
       "      <td>3600</td>\n",
       "      <td>45</td>\n",
       "      <td>69</td>\n",
       "      <td>0</td>\n",
       "      <td>0</td>\n",
       "      <td>0</td>\n",
       "      <td>0</td>\n",
       "    </tr>\n",
       "    <tr>\n",
       "      <th>14069</th>\n",
       "      <td>20152016</td>\n",
       "      <td>Regular</td>\n",
       "      <td>1229</td>\n",
       "      <td>21229</td>\n",
       "      <td>Complete</td>\n",
       "      <td>WPG</td>\n",
       "      <td>L.A</td>\n",
       "      <td>4</td>\n",
       "      <td>3</td>\n",
       "      <td>2016-04-09</td>\n",
       "      <td>7:09 PDT</td>\n",
       "      <td>9:55 PDT</td>\n",
       "      <td>5</td>\n",
       "      <td>3900</td>\n",
       "      <td>57</td>\n",
       "      <td>65</td>\n",
       "      <td>0</td>\n",
       "      <td>0</td>\n",
       "      <td>0</td>\n",
       "      <td>0</td>\n",
       "    </tr>\n",
       "    <tr>\n",
       "      <th>14068</th>\n",
       "      <td>20152016</td>\n",
       "      <td>Regular</td>\n",
       "      <td>1228</td>\n",
       "      <td>21228</td>\n",
       "      <td>Complete</td>\n",
       "      <td>EDM</td>\n",
       "      <td>VAN</td>\n",
       "      <td>3</td>\n",
       "      <td>4</td>\n",
       "      <td>2016-04-09</td>\n",
       "      <td>7:11 PDT</td>\n",
       "      <td>10:03 PDT</td>\n",
       "      <td>5</td>\n",
       "      <td>3900</td>\n",
       "      <td>63</td>\n",
       "      <td>62</td>\n",
       "      <td>0</td>\n",
       "      <td>0</td>\n",
       "      <td>0</td>\n",
       "      <td>0</td>\n",
       "    </tr>\n",
       "    <tr>\n",
       "      <th>14067</th>\n",
       "      <td>20152016</td>\n",
       "      <td>Regular</td>\n",
       "      <td>1227</td>\n",
       "      <td>21227</td>\n",
       "      <td>Complete</td>\n",
       "      <td>NSH</td>\n",
       "      <td>DAL</td>\n",
       "      <td>2</td>\n",
       "      <td>3</td>\n",
       "      <td>2016-04-09</td>\n",
       "      <td>7:07 CDT</td>\n",
       "      <td>9:36 CDT</td>\n",
       "      <td>3</td>\n",
       "      <td>3600</td>\n",
       "      <td>63</td>\n",
       "      <td>68</td>\n",
       "      <td>0</td>\n",
       "      <td>0</td>\n",
       "      <td>0</td>\n",
       "      <td>0</td>\n",
       "    </tr>\n",
       "    <tr>\n",
       "      <th>14066</th>\n",
       "      <td>20152016</td>\n",
       "      <td>Regular</td>\n",
       "      <td>1226</td>\n",
       "      <td>21226</td>\n",
       "      <td>Complete</td>\n",
       "      <td>WSH</td>\n",
       "      <td>STL</td>\n",
       "      <td>5</td>\n",
       "      <td>1</td>\n",
       "      <td>2016-04-09</td>\n",
       "      <td>7:07 CDT</td>\n",
       "      <td>9:30 CDT</td>\n",
       "      <td>3</td>\n",
       "      <td>3600</td>\n",
       "      <td>60</td>\n",
       "      <td>41</td>\n",
       "      <td>0</td>\n",
       "      <td>0</td>\n",
       "      <td>0</td>\n",
       "      <td>0</td>\n",
       "    </tr>\n",
       "    <tr>\n",
       "      <th>14065</th>\n",
       "      <td>20152016</td>\n",
       "      <td>Regular</td>\n",
       "      <td>1225</td>\n",
       "      <td>21225</td>\n",
       "      <td>Complete</td>\n",
       "      <td>BUF</td>\n",
       "      <td>NYI</td>\n",
       "      <td>4</td>\n",
       "      <td>3</td>\n",
       "      <td>2016-04-09</td>\n",
       "      <td>7:37 EDT</td>\n",
       "      <td>10:06 EDT</td>\n",
       "      <td>4</td>\n",
       "      <td>3766</td>\n",
       "      <td>55</td>\n",
       "      <td>49</td>\n",
       "      <td>0</td>\n",
       "      <td>1</td>\n",
       "      <td>0</td>\n",
       "      <td>0</td>\n",
       "    </tr>\n",
       "    <tr>\n",
       "      <th>14064</th>\n",
       "      <td>20152016</td>\n",
       "      <td>Regular</td>\n",
       "      <td>1224</td>\n",
       "      <td>21224</td>\n",
       "      <td>Complete</td>\n",
       "      <td>CGY</td>\n",
       "      <td>MIN</td>\n",
       "      <td>2</td>\n",
       "      <td>1</td>\n",
       "      <td>2016-04-09</td>\n",
       "      <td>6:15 CDT</td>\n",
       "      <td>8:41 CDT</td>\n",
       "      <td>3</td>\n",
       "      <td>3600</td>\n",
       "      <td>39</td>\n",
       "      <td>68</td>\n",
       "      <td>0</td>\n",
       "      <td>0</td>\n",
       "      <td>0</td>\n",
       "      <td>0</td>\n",
       "    </tr>\n",
       "    <tr>\n",
       "      <th>14063</th>\n",
       "      <td>20152016</td>\n",
       "      <td>Regular</td>\n",
       "      <td>1223</td>\n",
       "      <td>21223</td>\n",
       "      <td>Complete</td>\n",
       "      <td>CHI</td>\n",
       "      <td>CBJ</td>\n",
       "      <td>4</td>\n",
       "      <td>5</td>\n",
       "      <td>2016-04-09</td>\n",
       "      <td>7:08 EDT</td>\n",
       "      <td>9:39 EDT</td>\n",
       "      <td>4</td>\n",
       "      <td>3748</td>\n",
       "      <td>46</td>\n",
       "      <td>39</td>\n",
       "      <td>0</td>\n",
       "      <td>0</td>\n",
       "      <td>1</td>\n",
       "      <td>0</td>\n",
       "    </tr>\n",
       "  </tbody>\n",
       "</table>\n",
       "</div>"
      ],
      "text/plain": [
       "              season  session  gamenumber  gcode    status awayteam hometeam  \\\n",
       "Unnamed: 0                                                                     \n",
       "13556       20152016  Regular         716  20716  Complete      PHI      NYI   \n",
       "13544       20152016  Regular         704  20704  Complete      ANA      WSH   \n",
       "14070       20152016  Regular        1230  21230  Complete      ARI      S.J   \n",
       "14069       20152016  Regular        1229  21229  Complete      WPG      L.A   \n",
       "14068       20152016  Regular        1228  21228  Complete      EDM      VAN   \n",
       "14067       20152016  Regular        1227  21227  Complete      NSH      DAL   \n",
       "14066       20152016  Regular        1226  21226  Complete      WSH      STL   \n",
       "14065       20152016  Regular        1225  21225  Complete      BUF      NYI   \n",
       "14064       20152016  Regular        1224  21224  Complete      CGY      MIN   \n",
       "14063       20152016  Regular        1223  21223  Complete      CHI      CBJ   \n",
       "\n",
       "            awayscore  homescore        date game.start   game.end  periods  \\\n",
       "Unnamed: 0                                                                    \n",
       "13556               5          2  2016-04-10   7:09 EDT   9:27 EDT        3   \n",
       "13544               2          0  2016-04-10   7:46 EDT  10:08 EDT        3   \n",
       "14070               0          1  2016-04-09   7:38 PDT   9:57 PDT        3   \n",
       "14069               4          3  2016-04-09   7:09 PDT   9:55 PDT        5   \n",
       "14068               3          4  2016-04-09   7:11 PDT  10:03 PDT        5   \n",
       "14067               2          3  2016-04-09   7:07 CDT   9:36 CDT        3   \n",
       "14066               5          1  2016-04-09   7:07 CDT   9:30 CDT        3   \n",
       "14065               4          3  2016-04-09   7:37 EDT  10:06 EDT        4   \n",
       "14064               2          1  2016-04-09   6:15 CDT   8:41 CDT        3   \n",
       "14063               4          5  2016-04-09   7:08 EDT   9:39 EDT        4   \n",
       "\n",
       "            seconds  awaycorsi  homecorsi  awayafteraway  awayafterhome  \\\n",
       "Unnamed: 0                                                                \n",
       "13556          3600         47         33              0              0   \n",
       "13544          3600         45         56              0              0   \n",
       "14070          3600         45         69              0              0   \n",
       "14069          3900         57         65              0              0   \n",
       "14068          3900         63         62              0              0   \n",
       "14067          3600         63         68              0              0   \n",
       "14066          3600         60         41              0              0   \n",
       "14065          3766         55         49              0              1   \n",
       "14064          3600         39         68              0              0   \n",
       "14063          3748         46         39              0              0   \n",
       "\n",
       "            homeafteraway  homeafterhome  \n",
       "Unnamed: 0                                \n",
       "13556                   1              0  \n",
       "13544                   0              0  \n",
       "14070                   0              0  \n",
       "14069                   0              0  \n",
       "14068                   0              0  \n",
       "14067                   0              0  \n",
       "14066                   0              0  \n",
       "14065                   0              0  \n",
       "14064                   0              0  \n",
       "14063                   1              0  "
      ]
     },
     "execution_count": 70,
     "metadata": {},
     "output_type": "execute_result"
    }
   ],
   "source": [
    "df = pd.read_csv(filename).set_index('Unnamed: 0')\n",
    "df = df[df['status'] != 'NotStarted']\n",
    "#df['date'] = pd.to_datetime(df['date'])\n",
    "df.head(10)"
   ]
  },
  {
   "cell_type": "code",
   "execution_count": 71,
   "metadata": {
    "collapsed": false
   },
   "outputs": [
    {
     "data": {
      "text/plain": [
       "season            int64\n",
       "session          object\n",
       "gamenumber        int64\n",
       "gcode             int64\n",
       "status           object\n",
       "awayteam         object\n",
       "hometeam         object\n",
       "awayscore         int64\n",
       "homescore         int64\n",
       "date             object\n",
       "game.start       object\n",
       "game.end         object\n",
       "periods           int64\n",
       "seconds           int64\n",
       "awaycorsi         int64\n",
       "homecorsi         int64\n",
       "awayafteraway     int64\n",
       "awayafterhome     int64\n",
       "homeafteraway     int64\n",
       "homeafterhome     int64\n",
       "dtype: object"
      ]
     },
     "execution_count": 71,
     "metadata": {},
     "output_type": "execute_result"
    }
   ],
   "source": [
    "df.dtypes"
   ]
  },
  {
   "cell_type": "markdown",
   "metadata": {},
   "source": [
    "### Extract win/loss information from the dataframe"
   ]
  },
  {
   "cell_type": "code",
   "execution_count": 6,
   "metadata": {
    "collapsed": false
   },
   "outputs": [],
   "source": [
    "def fill_game_list(df, team, season):\n",
    "    ''' Input is the games database, team name, and season.  Function\n",
    "    returns a list where each item is a list of elements indexed as:\n",
    "    0 - game datetime object\n",
    "    1 - boulian type variable for wins (1/0)\n",
    "    2 - boulian type variable for losses (1/0) '''\n",
    "\n",
    "    games = [[] for i in range(len(df.index))]\n",
    "\n",
    "    i=0\n",
    "    \n",
    "    for j in df.index:\n",
    "    \n",
    "        if df.loc[j, 'season'] == season:\n",
    "        \n",
    "            if df.loc[j, 'awayteam'] == team:\n",
    "                win_bool = 1*(df.loc[j, 'awayscore'] > df.loc[j, 'homescore'])\n",
    "                loss_bool = 1*(not win_bool)\n",
    "                games[i] = [df.loc[j, 'date'], win_bool, loss_bool]\n",
    "                i += 1\n",
    "\n",
    "            if df.loc[j, 'hometeam'] == team:\n",
    "                win_bool = 1*(df.loc[j, 'homescore'] > df.loc[j, 'awayscore'])\n",
    "                loss_bool = 1*(not win_bool)\n",
    "                games[i] = [df.loc[j, 'date'], win_bool, loss_bool]\n",
    "                i += 1\n",
    "                \n",
    "    games = [game for game in games if len(game) != 0] # remove all the extras\n",
    "    return games"
   ]
  },
  {
   "cell_type": "code",
   "execution_count": 7,
   "metadata": {
    "collapsed": false
   },
   "outputs": [
    {
     "name": "stdout",
     "output_type": "stream",
     "text": [
      "[[Timestamp('2015-06-15 00:00:00'), 1, 0], [Timestamp('2015-06-13 00:00:00'), 1, 0], [Timestamp('2015-06-10 00:00:00'), 1, 0], [Timestamp('2015-06-08 00:00:00'), 0, 1], [Timestamp('2015-06-06 00:00:00'), 0, 1], [Timestamp('2015-06-03 00:00:00'), 1, 0], [Timestamp('2015-05-30 00:00:00'), 1, 0], [Timestamp('2015-05-27 00:00:00'), 1, 0], [Timestamp('2015-05-25 00:00:00'), 0, 1], [Timestamp('2015-05-23 00:00:00'), 1, 0]]\n"
     ]
    }
   ],
   "source": [
    "CHI_games = fill_game_list(df, team='CHI', season=20142015)\n",
    "print(CHI_games[:10])"
   ]
  },
  {
   "cell_type": "markdown",
   "metadata": {},
   "source": [
    "### Extract win/loss streak data"
   ]
  },
  {
   "cell_type": "code",
   "execution_count": 72,
   "metadata": {
    "collapsed": false
   },
   "outputs": [],
   "source": [
    "def get_streaks(streak_type, game_list):\n",
    "    ''' Input a list of games where the 2nd element in each item is a boulian type\n",
    "    variable for win/loss (1/0).  Output is a dictionary with key=length of streak. '''\n",
    "    \n",
    "    streak_list = []\n",
    "    if streak_type == 'win':\n",
    "        ig = 1\n",
    "    elif streak_type == 'loss':\n",
    "        ig = 2\n",
    "    else:\n",
    "        return 0\n",
    "    \n",
    "    streak = 0\n",
    "    for i, g in enumerate(game_list):\n",
    "        if g[ig] == 1:\n",
    "            streak += 1\n",
    "        if g[ig] == 0:\n",
    "            streak_list.append(streak)\n",
    "            streak = 0\n",
    "        if i == len(game_list)-1:\n",
    "            streak_list.append(streak)\n",
    "    \n",
    "    counter = []\n",
    "    for i in range(0,max(streak_list)+1):\n",
    "        counter.append(streak_list.count(i))\n",
    "        \n",
    "    streak_dict = {key: s for key, s in zip(range(0,len(counter)), counter)}\n",
    "    del streak_dict[0]\n",
    "        \n",
    "    return streak_dict"
   ]
  },
  {
   "cell_type": "code",
   "execution_count": 73,
   "metadata": {
    "collapsed": false
   },
   "outputs": [
    {
     "data": {
      "text/plain": [
       "{1: 12, 2: 11, 3: 3, 4: 2, 5: 1, 6: 0, 7: 0, 8: 1}"
      ]
     },
     "execution_count": 73,
     "metadata": {},
     "output_type": "execute_result"
    }
   ],
   "source": [
    "get_streaks('win', CHI_games)"
   ]
  },
  {
   "cell_type": "markdown",
   "metadata": {},
   "source": [
    "### Input results from previous playoffs"
   ]
  },
  {
   "cell_type": "code",
   "execution_count": 10,
   "metadata": {
    "collapsed": true
   },
   "outputs": [],
   "source": [
    "def check_team_names(teams):\n",
    "    ''' Makes sure team name ID's are correct. '''\n",
    "    for team in teams:\n",
    "        print(team, team in list(df.awayteam))\n",
    "        \n",
    "def check_results(results_dict):\n",
    "    ''' Makes sure results are consistent. '''\n",
    "    for i in range(0,5)[::-1]:\n",
    "        count = []\n",
    "        for team in results_dict.keys():\n",
    "            if results_dict[team] == i:\n",
    "                count.append(team)\n",
    "        print(count)"
   ]
  },
  {
   "cell_type": "code",
   "execution_count": 11,
   "metadata": {
    "collapsed": false,
    "scrolled": true
   },
   "outputs": [],
   "source": [
    "teams_all, rounds_all = {}, {}\n",
    "seasons_all = [20102011, 20112012, 20132014, 20142015]\n",
    "\n",
    "# Teams that made it to the playoffs\n",
    "# teams[:8]=east and teams[8:]=west\n",
    "teams_all[20102011] = ['WSH', 'PHI', 'BOS', 'PIT', 'T.B', 'MTL', 'BUF', 'NYR',\n",
    "                       'VAN', 'S.J', 'DET', 'ANA', 'NSH', 'PHX', 'L.A', 'CHI']\n",
    "# Furthest round teams made it past\n",
    "rounds_all[20102011] = [1, 1, 4, 0, 2, 0, 0, 0,\n",
    "                        3, 2, 1, 0, 1, 0, 0, 0]\n",
    "\n",
    "teams_all[20112012] = ['NYR', 'BOS', 'FLA', 'PIT', 'PHI', 'N.J', 'WSH', 'OTT',\n",
    "                       'VAN', 'STL', 'PHX', 'NSH', 'DET', 'CHI', 'S.J', 'L.A']\n",
    "rounds_all[20112012] = [2, 0, 0, 0, 1, 3, 1, 0,\n",
    "                        0, 1, 2, 1, 0, 0, 0, 4]\n",
    "\n",
    "teams_all[20132014] = ['BOS', 'T.B', 'MTL', 'PIT', 'NYR', 'PHI', 'CBJ', 'DET',\n",
    "                       'COL', 'STL', 'CHI', 'ANA', 'S.J', 'L.A', 'MIN', 'DAL']\n",
    "rounds_all[20132014] = [1, 0, 2, 1, 3, 0, 0, 0,\n",
    "                        0, 0, 2, 1, 0, 4, 1, 0]\n",
    "\n",
    "teams_all[20142015] = ['MTL', 'T.B', 'DET', 'NYR', 'WSH', 'NYI', 'OTT', 'PIT',\n",
    "                       'STL', 'NSH', 'CHI', 'ANA', 'VAN', 'CGY', 'MIN', 'WPG']\n",
    "rounds_all[20142015] = [1, 3, 0, 2, 1, 0, 0, 0,\n",
    "                        0, 0, 4, 2, 0, 1, 1, 0]\n",
    "\n",
    "results_all = {s: {team: r for team, r in zip(teams_all[s], rounds_all[s])}\n",
    "               for s in seasons_all}"
   ]
  },
  {
   "cell_type": "code",
   "execution_count": 12,
   "metadata": {
    "collapsed": false,
    "scrolled": true
   },
   "outputs": [],
   "source": [
    "#print(check_team_names(teams_all[20132014]))"
   ]
  },
  {
   "cell_type": "code",
   "execution_count": 13,
   "metadata": {
    "collapsed": false
   },
   "outputs": [],
   "source": [
    "# results_20142015 = list(zip(teams, results))\n",
    "# results_20142015 = sorted(results_20142015,\n",
    "#                           key=operator.itemgetter(1))[::-1]\n",
    "# results_20142015"
   ]
  },
  {
   "cell_type": "markdown",
   "metadata": {},
   "source": [
    "### Collect streak data for teams making it to playoffs"
   ]
  },
  {
   "cell_type": "code",
   "execution_count": 14,
   "metadata": {
    "collapsed": false
   },
   "outputs": [],
   "source": [
    "def get_all_streaks(df, teams, season):\n",
    "    ''' Input list of team ID's and return list of streaks for every team.\n",
    "    This takes a bit of time. '''\n",
    "\n",
    "    wins, losses = {}, {}\n",
    "    \n",
    "    for t in teams:\n",
    "        \n",
    "        games = fill_game_list(df, team=t, season=season)\n",
    "        win_streaks = get_streaks('win', games)\n",
    "        loss_streaks = get_streaks('loss', games)\n",
    "        wins[t] = win_streaks\n",
    "        losses[t] = loss_streaks\n",
    "        \n",
    "    return wins, losses"
   ]
  },
  {
   "cell_type": "markdown",
   "metadata": {},
   "source": [
    "#### Warning: this takes a while (~10 mins)"
   ]
  },
  {
   "cell_type": "code",
   "execution_count": 15,
   "metadata": {
    "collapsed": true
   },
   "outputs": [],
   "source": [
    "wins_all, losses_all = {}, {}\n",
    "for s in seasons_all:\n",
    "    wins_all[s], losses_all[s] = get_all_streaks(df, teams_all[s], s)"
   ]
  },
  {
   "cell_type": "code",
   "execution_count": 16,
   "metadata": {
    "collapsed": false
   },
   "outputs": [
    {
     "data": {
      "text/plain": [
       "{'ANA': {0: 19, 1: 8, 2: 3, 3: 7, 4: 2, 5: 0, 6: 1},\n",
       " 'BOS': {0: 18, 1: 10, 2: 9, 3: 6, 4: 1, 5: 1, 6: 0, 7: 1},\n",
       " 'BUF': {0: 16, 1: 15, 2: 10, 3: 2, 4: 0, 5: 1},\n",
       " 'CHI': {0: 20, 1: 12, 2: 5, 3: 3, 4: 2, 5: 0, 6: 0, 7: 0, 8: 1},\n",
       " 'DET': {0: 18, 1: 7, 2: 5, 3: 5, 4: 3, 5: 2},\n",
       " 'L.A': {0: 19, 1: 11, 2: 2, 3: 5, 4: 3, 5: 0, 6: 1},\n",
       " 'MTL': {0: 17, 1: 16, 2: 3, 3: 4, 4: 2, 5: 1},\n",
       " 'NSH': {0: 22, 1: 10, 2: 7, 3: 3, 4: 0, 5: 1, 6: 2},\n",
       " 'NYR': {0: 20, 1: 8, 2: 10, 3: 4, 4: 0, 5: 1},\n",
       " 'PHI': {0: 19, 1: 11, 2: 6, 3: 3, 4: 2, 5: 1, 6: 1},\n",
       " 'PHX': {0: 23, 1: 15, 2: 2, 3: 0, 4: 1, 5: 1, 6: 0, 7: 1, 8: 1},\n",
       " 'PIT': {0: 19,\n",
       "  1: 8,\n",
       "  2: 4,\n",
       "  3: 2,\n",
       "  4: 2,\n",
       "  5: 2,\n",
       "  6: 0,\n",
       "  7: 0,\n",
       "  8: 0,\n",
       "  9: 0,\n",
       "  10: 0,\n",
       "  11: 0,\n",
       "  12: 1},\n",
       " 'S.J': {0: 21, 1: 9, 2: 6, 3: 1, 4: 5, 5: 1, 6: 0, 7: 0, 8: 1},\n",
       " 'T.B': {0: 19, 1: 14, 2: 3, 3: 3, 4: 1, 5: 2, 6: 1, 7: 0, 8: 1},\n",
       " 'VAN': {0: 15, 1: 11, 2: 3, 3: 1, 4: 3, 5: 2, 6: 2, 7: 1, 8: 1},\n",
       " 'WSH': {0: 21, 1: 5, 2: 8, 3: 1, 4: 3, 5: 0, 6: 1, 7: 0, 8: 0, 9: 1}}"
      ]
     },
     "execution_count": 16,
     "metadata": {},
     "output_type": "execute_result"
    }
   ],
   "source": [
    "wins_all[20102011]"
   ]
  },
  {
   "cell_type": "code",
   "execution_count": 17,
   "metadata": {
    "collapsed": false
   },
   "outputs": [
    {
     "data": {
      "text/plain": [
       "{'ANA': {0: 28, 1: 13, 2: 6, 3: 1, 4: 0, 5: 1, 6: 1},\n",
       " 'BOS': {0: 35, 1: 16, 2: 8, 3: 3, 4: 1},\n",
       " 'BUF': {0: 19, 1: 20, 2: 5, 3: 1, 4: 0, 5: 2},\n",
       " 'CHI': {0: 24, 1: 12, 2: 7, 3: 4, 4: 1},\n",
       " 'DET': {0: 33, 1: 10, 2: 8, 3: 3, 4: 1},\n",
       " 'L.A': {0: 27, 1: 12, 2: 5, 3: 3, 4: 1, 5: 1},\n",
       " 'MTL': {0: 21, 1: 18, 2: 3, 3: 6},\n",
       " 'NSH': {0: 28, 1: 15, 2: 2, 3: 1, 4: 3, 5: 2},\n",
       " 'NYR': {0: 23, 1: 10, 2: 10, 3: 2, 4: 0, 5: 0, 6: 1},\n",
       " 'PHI': {0: 28, 1: 15, 2: 4, 3: 2, 4: 2, 5: 1},\n",
       " 'PHX': {0: 23, 1: 8, 2: 8, 3: 3, 4: 0, 5: 2},\n",
       " 'PIT': {0: 33, 1: 8, 2: 8, 3: 3, 4: 1},\n",
       " 'S.J': {0: 35, 1: 11, 2: 7, 3: 4, 4: 0, 5: 0, 6: 1},\n",
       " 'T.B': {0: 33, 1: 14, 2: 6, 3: 3, 4: 2},\n",
       " 'VAN': {0: 45, 1: 17, 2: 5, 3: 1, 4: 2},\n",
       " 'WSH': {0: 32, 1: 13, 2: 1, 3: 4, 4: 1, 5: 0, 6: 0, 7: 0, 8: 1}}"
      ]
     },
     "execution_count": 17,
     "metadata": {},
     "output_type": "execute_result"
    }
   ],
   "source": [
    "losses_all[20102011]"
   ]
  },
  {
   "cell_type": "markdown",
   "metadata": {},
   "source": [
    "### An objective function that will be used to ranks teams"
   ]
  },
  {
   "cell_type": "code",
   "execution_count": 18,
   "metadata": {
    "collapsed": false
   },
   "outputs": [],
   "source": [
    "def objective_func(win_streaks, loss_streaks,\n",
    "                    a1=0, a2=0, a3=0,\n",
    "                    b1=0, b2=0, b3=0):\n",
    "    ''' Input win and loss lists that are assumed to contain values for\n",
    "    streak lengths of 0, 1, 2, ... in order.  Returns ranking value float\n",
    "    number that can be positive or negative. '''\n",
    "    \n",
    "#     print('win')\n",
    "#     print(win_streaks)\n",
    "#     print('loss')\n",
    "#     print(loss_streaks)\n",
    "    \n",
    "    print_stuff = False\n",
    "    \n",
    "    # Lets include 2, 3, and 4+ game winning streaks\n",
    "    try:\n",
    "        W1 = win_streaks[2]\n",
    "    except:\n",
    "        if print_stuff:\n",
    "            print('exception raised in objective function')\n",
    "            print(win_streaks)\n",
    "        W1 = 0\n",
    "    try:\n",
    "        W2 = win_streaks[3]\n",
    "    except:\n",
    "        if print_stuff:\n",
    "            print('exception raised in objective function')\n",
    "            print(win_streaks)\n",
    "        W2 = 0\n",
    "    try:\n",
    "        W3 = sum(win_streaks[4:])\n",
    "    except:\n",
    "        if print_stuff:\n",
    "            print('exception raised in objective function')\n",
    "            print(win_streaks)\n",
    "        W3 = 0\n",
    "    \n",
    "    # Lets include 2, 3, and 4+ game losing streaks\n",
    "    try:\n",
    "        L1 = loss_streaks[2]\n",
    "    except:\n",
    "        if print_stuff:\n",
    "            print('exception raised in objective function')\n",
    "            print(loss_streaks)\n",
    "        L1 = 0    \n",
    "    try:\n",
    "        L2 = loss_streaks[3]\n",
    "    except:\n",
    "        if print_stuff:\n",
    "            print('exception raised in objective function')\n",
    "            print(loss_streaks)\n",
    "        L2 = 0\n",
    "    try:\n",
    "        L3 = sum(loss_streaks[4:])\n",
    "    except:\n",
    "        if print_stuff:\n",
    "            print('exception raised in objective function')\n",
    "            print(loss_streaks)\n",
    "        L3 = 0 \n",
    "    \n",
    "    #print('W', W1, W2, W3, 'L', L1, L2, L3)\n",
    "    \n",
    "    # Use symmetric parameters\n",
    "    b1, b2, b3 = -a1, -a2, -a3\n",
    "    \n",
    "    # Finally, we can compute the objective function\n",
    "    f = a1*W1 + a2*W2 + a3*W3 + \\\n",
    "        b1*L1 + b2*L2 + b3*L3\n",
    "        \n",
    "    \n",
    "    # Add a small 'perturbation' to break ties\n",
    "    max_w = len(win_streaks)\n",
    "    N_max_w = win_streaks[-1]\n",
    "    max_l = len(loss_streaks)\n",
    "    N_max_l = loss_streaks[-1]\n",
    "    \n",
    "    f = f + 0.01*max_w + 0.004*N_max_w \\\n",
    "          - 0.01*max_l + 0.004*N_max_l\n",
    "    \n",
    "    return f"
   ]
  },
  {
   "cell_type": "markdown",
   "metadata": {},
   "source": [
    "### Predict results using objective function\n",
    "#### I didn't really consider this but it doesn't make a lot of sense to bother with trying to predict rounds because I'm not accounting for the order in which teams face eachother.  Will have to make a lot of changes to my algorithm next year so this function (below) can be of use."
   ]
  },
  {
   "cell_type": "code",
   "execution_count": 74,
   "metadata": {
    "collapsed": false
   },
   "outputs": [],
   "source": [
    "def predict_rounds(teams, wins, losses,\n",
    "                   a1=0, a2=0, a3=0,\n",
    "                   b1=0, b2=0, b3=0,\n",
    "                   EastWestCorrect=True,\n",
    "                   PredictRounds=True):\n",
    "    ''' Input dictionaries of wins and loss streaks along with objective\n",
    "    function parameters.  This function computes the objective function\n",
    "    and sorts teams accordingly. Returns a dictionary of round predictions. '''\n",
    "    \n",
    "    w = [list(wins[t].values()) for t in teams]\n",
    "    l = [list(losses[t].values()) for t in teams]\n",
    "\n",
    "    rank_tuples = []\n",
    "\n",
    "    for i, t in enumerate(teams):\n",
    "        # Calculate objective function\n",
    "        f = objective_func(w[i], l[i],\n",
    "                           a1, a2, a3)\n",
    "        rank_tuples.append((t, round(f, 3)))\n",
    "\n",
    "    # Sort the tuples for round assignment (below)\n",
    "    ranks = sorted(rank_tuples, key=operator.itemgetter(1))[::-1]\n",
    "\n",
    "    # Correct for playoff format east vs west\n",
    "    # ---------------------------------------\n",
    "    # A BETTER WAY OF DOING THIS is to rank the east\n",
    "    # and west separately and then zip them together\n",
    "    # the lists of ordered tuples - where each element\n",
    "    # is of the form e.g. ('TOR', 34.562) - making\n",
    "    # sure that highest ranking tem is on top\n",
    "    # ---------------------------------------\n",
    "    # Must be feeding in a sorted list of tuples\n",
    "    # with the largest score as the first element\n",
    "    E_teams = teams[:8]\n",
    "    if EastWestCorrect:\n",
    "        ''' Iterate over list checking \"manually\". '''\n",
    "        east_team = lambda team: team[0] in E_teams\n",
    "        east_west_ranks = []\n",
    "        for i in range(len(ranks)):\n",
    "            \n",
    "            if i == 0:\n",
    "                if east_team(ranks[0]):\n",
    "                    E_boo = True\n",
    "                else:\n",
    "                    E_boo = False\n",
    "                east_west_ranks.append(ranks.pop(0))\n",
    "            elif i == 1:\n",
    "                if E_boo:\n",
    "                    for j in range(len(ranks)):\n",
    "                        if not east_team(ranks[j]):\n",
    "                            east_west_ranks.append(ranks.pop(j))\n",
    "                            break\n",
    "                else:\n",
    "                    for j in range(len(ranks)):\n",
    "                        if east_team(ranks[j]):\n",
    "                            east_west_ranks.append(ranks.pop(j))\n",
    "                            break\n",
    "                            \n",
    "            elif i == 2:\n",
    "                if east_team(ranks[0]):\n",
    "                    E_boo = True\n",
    "                else:\n",
    "                    E_boo = False\n",
    "                east_west_ranks.append(ranks.pop(0))\n",
    "            elif i == 3:\n",
    "                if E_boo:\n",
    "                    for j in range(len(ranks)):\n",
    "                        if not east_team(ranks[j]):\n",
    "                            east_west_ranks.append(ranks.pop(j))\n",
    "                            break\n",
    "                else:\n",
    "                    for j in range(len(ranks)):\n",
    "                        if east_team(ranks[j]):\n",
    "                            east_west_ranks.append(ranks.pop(j))\n",
    "                            break\n",
    "            \n",
    "            elif 4 <= i <= 7:\n",
    "                if i == 4:\n",
    "                    EW_list = []\n",
    "                if EW_list.count('E') == 2:\n",
    "                    for j in range(len(ranks)):\n",
    "                        if not east_team(ranks[j]):\n",
    "                            EW_list.append('W')\n",
    "                            #print(i, 'east full')\n",
    "                            #print(ranks[j])\n",
    "                            #print(EW_list)\n",
    "                            east_west_ranks.append(ranks.pop(j))\n",
    "                            break\n",
    "                elif EW_list.count('W') == 2:\n",
    "                    for j in range(len(ranks)):\n",
    "                        if east_team(ranks[j]):\n",
    "                            EW_list.append('E')\n",
    "                            #print(i, 'west full')\n",
    "                            #print(ranks[j])\n",
    "                            #print(EW_list)\n",
    "                            east_west_ranks.append(ranks.pop(j))\n",
    "                            break\n",
    "                else:\n",
    "                    if east_team(ranks[0]):\n",
    "                        EW_list.append('E')\n",
    "                    else:\n",
    "                        EW_list.append('W')\n",
    "                    #print(i, 'none full')\n",
    "                    #print(ranks[0])\n",
    "                    #print(EW_list)\n",
    "                    east_west_ranks.append(ranks.pop(0))\n",
    "                    \n",
    "        for i in range(len(ranks)):\n",
    "            east_west_ranks.append(ranks.pop(0))\n",
    "        \n",
    "        ranks = east_west_ranks\n",
    "            \n",
    "    if PredictRounds:\n",
    "        # Predictions for the number of rounds each team will make it past\n",
    "        predicted_rounds = []\n",
    "        for i, r in enumerate(ranks):\n",
    "            if i == 0:\n",
    "                predicted_rounds.append((r[0], 4))\n",
    "            elif i == 1:\n",
    "                predicted_rounds.append((r[0], 3))\n",
    "            elif 2 <= i <= 3:\n",
    "                predicted_rounds.append((r[0], 2))\n",
    "            elif 4 <= i <= 7:\n",
    "                predicted_rounds.append((r[0], 1))\n",
    "            elif 8 <= i <= 15:\n",
    "                predicted_rounds.append((r[0], 0))\n",
    "\n",
    "        return {key: p for key, p in predicted_rounds}\n",
    "    else:\n",
    "        return ranks"
   ]
  },
  {
   "cell_type": "markdown",
   "metadata": {},
   "source": [
    "### Compare to results (i.e. test data)"
   ]
  },
  {
   "cell_type": "code",
   "execution_count": 20,
   "metadata": {
    "collapsed": false
   },
   "outputs": [],
   "source": [
    "def prediction_score(prediction, result):\n",
    "    ''' Input dictionaries of predictions and results.  This function\n",
    "    copmares the two and provides an integer value as a score, where\n",
    "    a perfect match is 0 and a large value indicates a poor match.'''\n",
    "    \n",
    "    scores = []\n",
    "    # Iterate over the team name ID's e.g. 'TOR'\n",
    "    for k in prediction.keys():\n",
    "        # Predicted round team will make it past\n",
    "        p = prediction[k]\n",
    "        # Actual result\n",
    "        r = result[k]\n",
    "        \n",
    "        # Weights for the score\n",
    "        # Lets give more weight to correctly\n",
    "        # predicting the later rounds\n",
    "        if p == 4 or p == 3:\n",
    "            w = 3\n",
    "        elif p == 2:\n",
    "            w = 2\n",
    "        elif p == 1 or p == 0:\n",
    "            w = 1\n",
    "        \n",
    "        # Add score to the list\n",
    "        scores.append(w*abs(p - r))\n",
    "\n",
    "    return sum(scores)"
   ]
  },
  {
   "cell_type": "markdown",
   "metadata": {},
   "source": [
    "### Brute force optimization"
   ]
  },
  {
   "cell_type": "code",
   "execution_count": 21,
   "metadata": {
    "collapsed": false,
    "scrolled": true
   },
   "outputs": [],
   "source": [
    "def brute_force_optimize():\n",
    "    ''' Iterate over a range of values for the coefficients and find optimal\n",
    "    values on N-dimensional mesh.  This is done using brute force which will\n",
    "    be time consuming if rnge is too large and/or we are using too many\n",
    "    coefficients in the objective function. '''\n",
    "    \n",
    "    delta = 0.25\n",
    "    rnge = 5\n",
    "    a = [0.5, 1.0, 1.5]\n",
    "    a = [i - delta for i in a]\n",
    "\n",
    "    prediction_stack = {}\n",
    "    for i, s in enumerate(seasons_all):\n",
    "        results = results_all[s]\n",
    "        wins = wins_all[s]\n",
    "        losses = losses_all[s]\n",
    "        teams = teams_all[s]\n",
    "        prediction_stack[s] = []\n",
    "\n",
    "        a1 = a[0]\n",
    "        for i in range(0,rnge):\n",
    "            a1 += delta\n",
    "            a2 = a[1]\n",
    "            for j in range(0,rnge):\n",
    "                a2 += delta\n",
    "                a3 = a[2]\n",
    "                for k in range(0,rnge):\n",
    "                    a3 += delta\n",
    "\n",
    "                    # Only accept combinations where coefficients\n",
    "                    # gradually increase in size i.e., longer win\n",
    "                    # streaks more substantially correlate to\n",
    "                    # playoff success\n",
    "                    if a1 < a2 < a3:\n",
    "                        prediction = predict_rounds(teams, wins, losses, a1, a2, a3)\n",
    "                        score = prediction_score(prediction, results)\n",
    "                        prediction_stack[s].append((str(a1)+' '+str(a2)+' '+str(a3),\n",
    "                                                    prediction, score))\n",
    "                    #print('{0:.2f} {1:.2f} {2:.2f}'.format(a1, a2, a3), ':', score)\n",
    "\n",
    "    return prediction_stack\n",
    "\n",
    "a = brute_force_optimize()"
   ]
  },
  {
   "cell_type": "code",
   "execution_count": 22,
   "metadata": {
    "collapsed": false
   },
   "outputs": [
    {
     "data": {
      "text/plain": [
       "66"
      ]
     },
     "execution_count": 22,
     "metadata": {},
     "output_type": "execute_result"
    }
   ],
   "source": [
    "len(a[20102011])"
   ]
  },
  {
   "cell_type": "code",
   "execution_count": 23,
   "metadata": {
    "collapsed": false
   },
   "outputs": [
    {
     "name": "stdout",
     "output_type": "stream",
     "text": [
      "[('1.25 1.5 2.5', 84), ('0.75 1.75 2.25', 85), ('0.75 2.0 2.5', 85), ('1.5 2.0 2.5', 86), ('0.75 1.0 1.5', 86), ('0.75 1.5 2.0', 86), ('1.0 1.75 2.5', 86), ('0.5 1.25 1.5', 86), ('1.25 1.75 2.5', 86), ('1.0 1.5 2.0', 87)]\n",
      "\n",
      "optimal ID: 1.25 1.5 2.5\n",
      "\n",
      "20102011 18\n",
      "prediction {'DET': 1, 'S.J': 2, 'MTL': 0, 'PHX': 0, 'WSH': 3, 'PHI': 1, 'BUF': 1, 'CHI': 0, 'ANA': 1, 'VAN': 4, 'T.B': 0, 'NSH': 0, 'BOS': 2, 'PIT': 0, 'NYR': 0, 'L.A': 0}\n",
      "result {'DET': 1, 'S.J': 2, 'MTL': 0, 'PHX': 0, 'WSH': 1, 'CHI': 0, 'BUF': 0, 'PHI': 1, 'VAN': 3, 'T.B': 2, 'NSH': 1, 'L.A': 0, 'BOS': 4, 'PIT': 0, 'NYR': 0, 'ANA': 0}\n",
      "\n",
      "20112012 22\n",
      "prediction {'DET': 0, 'S.J': 0, 'WSH': 0, 'PHX': 0, 'STL': 3, 'CHI': 2, 'FLA': 0, 'N.J': 4, 'PHI': 1, 'VAN': 1, 'NSH': 1, 'OTT': 0, 'BOS': 0, 'PIT': 1, 'NYR': 2, 'L.A': 0}\n",
      "result {'DET': 0, 'S.J': 0, 'WSH': 1, 'PHX': 2, 'STL': 1, 'CHI': 0, 'FLA': 0, 'N.J': 3, 'PHI': 1, 'VAN': 0, 'NSH': 1, 'L.A': 4, 'BOS': 0, 'PIT': 0, 'NYR': 2, 'OTT': 0}\n",
      "\n",
      "20132014 35\n",
      "prediction {'PHI': 0, 'S.J': 1, 'MIN': 0, 'MTL': 1, 'CBJ': 0, 'STL': 3, 'CHI': 0, 'ANA': 1, 'DET': 0, 'COL': 2, 'T.B': 0, 'DAL': 0, 'BOS': 2, 'PIT': 4, 'NYR': 1, 'L.A': 0}\n",
      "result {'DET': 0, 'S.J': 0, 'MIN': 1, 'MTL': 2, 'CBJ': 0, 'STL': 0, 'CHI': 2, 'PHI': 0, 'COL': 0, 'T.B': 0, 'DAL': 0, 'L.A': 4, 'BOS': 1, 'PIT': 1, 'NYR': 3, 'ANA': 1}\n",
      "\n",
      "20142015 9\n",
      "prediction {'DET': 0, 'MIN': 0, 'WPG': 0, 'MTL': 1, 'WSH': 1, 'CGY': 0, 'STL': 0, 'CHI': 4, 'ANA': 2, 'VAN': 1, 'T.B': 2, 'NYI': 0, 'NSH': 1, 'PIT': 0, 'NYR': 3, 'OTT': 0}\n",
      "result {'DET': 0, 'MIN': 1, 'WPG': 0, 'MTL': 1, 'NYI': 0, 'CGY': 1, 'STL': 0, 'CHI': 4, 'ANA': 2, 'VAN': 0, 'T.B': 3, 'WSH': 1, 'NSH': 0, 'PIT': 0, 'NYR': 2, 'OTT': 0}\n",
      "\n"
     ]
    }
   ],
   "source": [
    "# Let's look for lowest overall score by creating\n",
    "# dictionary with ID = str(a1) + str(a2) + str(a3)\n",
    "# as the key. Using 20102011 as season arbitrarily\n",
    "b = {ID: 0 for ID in [a[20102011][i][0] for i in range(len(a[20102011]))]}\n",
    "\n",
    "for s in seasons_all:\n",
    "    for ID, prediction, score in a[s]:\n",
    "        b[ID] += score\n",
    "\n",
    "b_tuples = list(zip(b.keys(), b.values()))\n",
    "b_sorted = sorted(b_tuples, key=operator.itemgetter(1))\n",
    "print(b_sorted[:10])\n",
    "print('')\n",
    "optimal_ID = b_sorted[0][0]\n",
    "print('optimal ID:', optimal_ID)\n",
    "print('')\n",
    "\n",
    "for s in seasons_all:\n",
    "    for ID, prediction, score in a[s]:\n",
    "        if optimal_ID == ID:\n",
    "            print(s, score)\n",
    "            print('prediction', prediction)\n",
    "            print('result', results_all[s])\n",
    "            print('')"
   ]
  },
  {
   "cell_type": "markdown",
   "metadata": {},
   "source": [
    "### Use optimal coefficients to predict 2016 playoff results"
   ]
  },
  {
   "cell_type": "code",
   "execution_count": 33,
   "metadata": {
    "collapsed": true
   },
   "outputs": [],
   "source": [
    "# Due to my sorting algorithm, must have east teams on top row\n",
    "# and west teams on bottom row\n",
    "teams_20152016 = ['T.B', 'FLA', 'DET', 'WSH', 'NYR', 'PIT', 'NYI', 'PHI',\n",
    "                  'DAL', 'STL', 'CHI', 'NSH', 'MIN', 'ANA', 'L.A', 'S.J']"
   ]
  },
  {
   "cell_type": "code",
   "execution_count": 25,
   "metadata": {
    "collapsed": true
   },
   "outputs": [],
   "source": [
    "# Populate win and loss streak dictionaries for teams above\n",
    "wins_20152016, losses_20152016 = get_all_streaks(df, teams_20152016, 20152016)"
   ]
  },
  {
   "cell_type": "code",
   "execution_count": 35,
   "metadata": {
    "collapsed": false
   },
   "outputs": [
    {
     "data": {
      "text/plain": [
       "[('WSH', 18.318000000000005),\n",
       " ('DAL', 14.025999999999998),\n",
       " ('STL', 10.267999999999999),\n",
       " ('NYI', 6.515999999999999),\n",
       " ('S.J', 7.507999999999999),\n",
       " ('L.A', 6.555999999999999),\n",
       " ('PIT', 6.287999999999999),\n",
       " ('NYR', 4.083999999999999),\n",
       " ('CHI', 3.588),\n",
       " ('FLA', 2.328),\n",
       " ('PHI', 1.9919999999999998),\n",
       " ('ANA', 1.318),\n",
       " ('NSH', -0.742),\n",
       " ('T.B', -0.9420000000000001),\n",
       " ('DET', -0.988),\n",
       " ('MIN', -3.262)]"
      ]
     },
     "execution_count": 35,
     "metadata": {},
     "output_type": "execute_result"
    }
   ],
   "source": [
    "prediction_20152016 = predict_rounds(teams_20152016,\n",
    "                                     wins_20152016,\n",
    "                                     losses_20152016,\n",
    "                                     a1=1.25, a2=1.75, a3=2.5,\n",
    "                                     PredictRounds=False)\n",
    "prediction_20152016"
   ]
  },
  {
   "cell_type": "raw",
   "metadata": {},
   "source": [
    "Using optimal coefficients a1=1.25, a2=1.75, a3=2.5 as determined by closest match to rounds won result. This isn't ideal because I'm not taking into account which teams face eachother each round.\n",
    "\n",
    "[('WSH', 18.318000000000005),\n",
    " ('DAL', 14.025999999999998),\n",
    " ('STL', 10.267999999999999),\n",
    " ('NYI', 6.515999999999999),\n",
    " ('S.J', 7.507999999999999),\n",
    " ('L.A', 6.555999999999999),\n",
    " ('PIT', 6.287999999999999),\n",
    " ('NYR', 4.083999999999999),\n",
    " ('CHI', 3.588),\n",
    " ('FLA', 2.328),\n",
    " ('PHI', 1.9919999999999998),\n",
    " ('ANA', 1.318),\n",
    " ('NSH', -0.742),\n",
    " ('T.B', -0.9420000000000001),\n",
    " ('DET', -0.988),\n",
    " ('MIN', -3.262)]"
   ]
  },
  {
   "cell_type": "markdown",
   "metadata": {},
   "source": [
    "### Let's instead optimize based on only matching to the top 2 and bottom 8 teams"
   ]
  },
  {
   "cell_type": "code",
   "execution_count": 38,
   "metadata": {
    "collapsed": true
   },
   "outputs": [],
   "source": [
    "def prediction_score_2(prediction, result):\n",
    "    ''' Changed weights for p=1 and p=2.\n",
    "    Input dictionaries of predictions and results.  This function\n",
    "    copmares the two and provides an integer value as a score, where\n",
    "    a perfect match is 0 and a large value indicates a poor match.'''\n",
    "    \n",
    "    scores = []\n",
    "    # Iterate over the team name ID's e.g. 'TOR'\n",
    "    for k in prediction.keys():\n",
    "        # Predicted round team will make it past\n",
    "        p = prediction[k]\n",
    "        # Actual result\n",
    "        r = result[k]\n",
    "        \n",
    "        # Weights for the score\n",
    "        # Lets give more weight to correctly\n",
    "        # predicting the later rounds\n",
    "        if p == 4 or p == 3:\n",
    "            w = 3\n",
    "        elif p == 2 or p == 1:\n",
    "            w = 0\n",
    "        elif p == 0:\n",
    "            w = 1\n",
    "        \n",
    "        # Add score to the list\n",
    "        scores.append(w*abs(p - r))\n",
    "\n",
    "    return sum(scores)"
   ]
  },
  {
   "cell_type": "code",
   "execution_count": 62,
   "metadata": {
    "collapsed": true
   },
   "outputs": [],
   "source": [
    "def brute_force_optimize_2():\n",
    "    ''' \n",
    "    Iterate over a range of values for the coefficients and find optimal\n",
    "    values on N-dimensional mesh.  This is done using brute force which will\n",
    "    be time consuming if rnge is too large and/or we are using too many\n",
    "    coefficients in the objective function. '''\n",
    "    \n",
    "    # Define the amount to shift parameters by\n",
    "    # and the range (i.e. number of iterations)\n",
    "    delta = 0.25\n",
    "    rnge = 17\n",
    "    # Define the starting values for the coefficients\n",
    "    a = [0.5, 0.5, 0.5]\n",
    "    a = [i - delta for i in a]\n",
    "\n",
    "    prediction_stack = {}\n",
    "    for i, s in enumerate(seasons_all):\n",
    "        results = results_all[s]\n",
    "        wins = wins_all[s]\n",
    "        losses = losses_all[s]\n",
    "        teams = teams_all[s]\n",
    "        prediction_stack[s] = []\n",
    "\n",
    "        a1 = a[0]\n",
    "        for i in range(0,rnge):\n",
    "            a1 += delta\n",
    "            a2 = a[1]\n",
    "            for j in range(0,rnge):\n",
    "                a2 += delta\n",
    "                a3 = a[2]\n",
    "                for k in range(0,rnge):\n",
    "                    a3 += delta\n",
    "\n",
    "                    # Only look for combinations where coefficients\n",
    "                    # gradually increase in size i.e., longer win\n",
    "                    # streaks more substantially correlate to\n",
    "                    # playoff success i.e., a1 < a2 < a3:\n",
    "                    if True:\n",
    "                        prediction = predict_rounds(teams, wins, losses, a1, a2, a3)\n",
    "                        score = prediction_score_2(prediction, results)\n",
    "                        prediction_stack[s].append((str(a1)+' '+str(a2)+' '+str(a3),\n",
    "                                                    prediction, score))\n",
    "                    #print('{0:.2f} {1:.2f} {2:.2f}'.format(a1, a2, a3), ':', score)\n",
    "\n",
    "    return prediction_stack"
   ]
  },
  {
   "cell_type": "code",
   "execution_count": 63,
   "metadata": {
    "collapsed": false
   },
   "outputs": [],
   "source": [
    "a = brute_force_optimize_2()"
   ]
  },
  {
   "cell_type": "code",
   "execution_count": 64,
   "metadata": {
    "collapsed": false
   },
   "outputs": [
    {
     "name": "stdout",
     "output_type": "stream",
     "text": [
      "[('2.5 4.25 4.0', 51), ('1.75 2.75 2.5', 52), ('2.75 4.25 4.0', 52), ('2.5 3.75 3.5', 52), ('2.0 3.0 2.75', 52), ('2.25 3.5 3.25', 52), ('3.0 4.5 4.25', 52), ('3.0 4.5 4.0', 53), ('1.5 2.25 2.0', 53), ('3.75 1.0 4.5', 54)]\n",
      "\n",
      "optimal ID: 2.5 4.25 4.0\n",
      "\n",
      "20102011 4\n",
      "prediction {'DET': 1, 'S.J': 0, 'MTL': 0, 'PHX': 0, 'WSH': 2, 'PHI': 1, 'BUF': 1, 'CHI': 0, 'ANA': 2, 'VAN': 3, 'T.B': 0, 'NSH': 1, 'BOS': 4, 'PIT': 0, 'NYR': 0, 'L.A': 0}\n",
      "result {'DET': 1, 'S.J': 2, 'MTL': 0, 'PHX': 0, 'WSH': 1, 'CHI': 0, 'BUF': 0, 'PHI': 1, 'VAN': 3, 'T.B': 2, 'NSH': 1, 'L.A': 0, 'BOS': 4, 'PIT': 0, 'NYR': 0, 'ANA': 0}\n",
      "\n",
      "20112012 16\n",
      "prediction {'DET': 0, 'S.J': 0, 'WSH': 0, 'PHX': 0, 'STL': 1, 'CHI': 1, 'FLA': 0, 'N.J': 4, 'PHI': 1, 'VAN': 2, 'NSH': 3, 'OTT': 0, 'BOS': 0, 'PIT': 1, 'NYR': 2, 'L.A': 0}\n",
      "result {'DET': 0, 'S.J': 0, 'WSH': 1, 'PHX': 2, 'STL': 1, 'CHI': 0, 'FLA': 0, 'N.J': 3, 'PHI': 1, 'VAN': 0, 'NSH': 1, 'L.A': 4, 'BOS': 0, 'PIT': 0, 'NYR': 2, 'OTT': 0}\n",
      "\n",
      "20132014 25\n",
      "prediction {'PHI': 0, 'S.J': 1, 'MIN': 0, 'MTL': 1, 'CBJ': 0, 'STL': 4, 'CHI': 0, 'ANA': 1, 'DET': 0, 'COL': 2, 'T.B': 0, 'DAL': 0, 'BOS': 2, 'PIT': 3, 'NYR': 1, 'L.A': 0}\n",
      "result {'DET': 0, 'S.J': 0, 'MIN': 1, 'MTL': 2, 'CBJ': 0, 'STL': 0, 'CHI': 2, 'PHI': 0, 'COL': 0, 'T.B': 0, 'DAL': 0, 'L.A': 4, 'BOS': 1, 'PIT': 1, 'NYR': 3, 'ANA': 1}\n",
      "\n",
      "20142015 6\n",
      "prediction {'DET': 0, 'MIN': 0, 'WPG': 0, 'CGY': 1, 'WSH': 2, 'MTL': 1, 'STL': 0, 'CHI': 4, 'ANA': 0, 'VAN': 2, 'T.B': 1, 'NYI': 0, 'NSH': 1, 'PIT': 0, 'NYR': 3, 'OTT': 0}\n",
      "result {'DET': 0, 'MIN': 1, 'WPG': 0, 'MTL': 1, 'NYI': 0, 'CGY': 1, 'STL': 0, 'CHI': 4, 'ANA': 2, 'VAN': 0, 'T.B': 3, 'WSH': 1, 'NSH': 0, 'PIT': 0, 'NYR': 2, 'OTT': 0}\n",
      "\n"
     ]
    }
   ],
   "source": [
    "# Let's look for lowest overall score by creating\n",
    "# dictionary with ID = str(a1) + str(a2) + str(a3)\n",
    "# as the key. Using 20102011 as season arbitrarily,\n",
    "# this should not be concerning because each season\n",
    "# has scores for the same parameters.\n",
    "b = {ID: 0 for ID in [a[20102011][i][0] for i in range(len(a[20102011]))]}\n",
    "\n",
    "for s in seasons_all:\n",
    "    for ID, prediction, score in a[s]:\n",
    "        b[ID] += score\n",
    "\n",
    "b_tuples = list(zip(b.keys(), b.values()))\n",
    "b_sorted = sorted(b_tuples, key=operator.itemgetter(1))\n",
    "print(b_sorted[:10])\n",
    "print('')\n",
    "optimal_ID = b_sorted[0][0]\n",
    "print('optimal ID:', optimal_ID)\n",
    "print('')\n",
    "\n",
    "for s in seasons_all:\n",
    "    for ID, prediction, score in a[s]:\n",
    "        if optimal_ID == ID:\n",
    "            print(s, score)\n",
    "            print('prediction', prediction)\n",
    "            print('result', results_all[s])\n",
    "            print('')"
   ]
  },
  {
   "cell_type": "markdown",
   "metadata": {},
   "source": [
    "#### Optimal coefficients (0.5-4.5) with a1 < a2 < a3: ('3.25 4.0 4.25', 55)"
   ]
  },
  {
   "cell_type": "code",
   "execution_count": 65,
   "metadata": {
    "collapsed": false,
    "scrolled": true
   },
   "outputs": [
    {
     "data": {
      "text/plain": [
       "[('WSH', 34.568),\n",
       " ('DAL', 30.275999999999996),\n",
       " ('STL', 18.268000000000004),\n",
       " ('NYI', 10.766),\n",
       " ('S.J', 15.008),\n",
       " ('PIT', 9.537999999999998),\n",
       " ('NYR', 7.083999999999999),\n",
       " ('L.A', 6.805999999999999),\n",
       " ('CHI', 5.837999999999999),\n",
       " ('PHI', 3.492),\n",
       " ('FLA', 3.078),\n",
       " ('ANA', 1.068),\n",
       " ('DET', -1.988),\n",
       " ('NSH', -2.492),\n",
       " ('T.B', -6.442000000000001),\n",
       " ('MIN', -9.012)]"
      ]
     },
     "execution_count": 65,
     "metadata": {},
     "output_type": "execute_result"
    }
   ],
   "source": [
    "prediction_20152016_2a = predict_rounds(teams_20152016,\n",
    "                                     wins_20152016,\n",
    "                                     losses_20152016,\n",
    "                                     a1=3.25, a2=4.0, a3=4.25,\n",
    "                                     PredictRounds=False)\n",
    "prediction_20152016_2a"
   ]
  },
  {
   "cell_type": "markdown",
   "metadata": {},
   "source": [
    "#### Optimal coefficients (0.5-4.5) unrestricted: ('2.5 4.25 4.0', 51)"
   ]
  },
  {
   "cell_type": "code",
   "execution_count": 75,
   "metadata": {
    "collapsed": false
   },
   "outputs": [
    {
     "data": {
      "text/plain": [
       "[('WSH', 29.818),\n",
       " ('DAL', 28.276),\n",
       " ('STL', 19.768),\n",
       " ('NYI', 13.266),\n",
       " ('S.J', 13.008),\n",
       " ('PIT', 9.538),\n",
       " ('CHI', 7.588),\n",
       " ('NYR', 4.584),\n",
       " ('L.A', 6.556),\n",
       " ('PHI', 2.242),\n",
       " ('ANA', 1.568),\n",
       " ('DET', 1.262),\n",
       " ('FLA', 0.328),\n",
       " ('T.B', -0.692),\n",
       " ('NSH', -0.742),\n",
       " ('MIN', -5.762)]"
      ]
     },
     "execution_count": 75,
     "metadata": {},
     "output_type": "execute_result"
    }
   ],
   "source": [
    "prediction_20152016_2b = predict_rounds(teams_20152016, wins_20152016, losses_20152016,\n",
    "                                        a1=2.5, a2=4.25, a3=4.0, PredictRounds=False)\n",
    "prediction_20152016_2b"
   ]
  },
  {
   "cell_type": "markdown",
   "metadata": {},
   "source": [
    "### Null hypothesis - wins/losses are the main factor, regardless of streaks"
   ]
  },
  {
   "cell_type": "code",
   "execution_count": 28,
   "metadata": {
    "collapsed": true
   },
   "outputs": [],
   "source": [
    "def wins_losses_from_streaks(win_streaks, loss_streaks):\n",
    "    ''' Since we already have all the information needed to determine the number\n",
    "    of wins, lets calculate it instead of getting it manually / scraping it. This\n",
    "    can also serve as a double check for our win/loss streaks. '''\n",
    "    \n",
    "    teams = win_streaks.keys()\n",
    "    wins = {}\n",
    "    losses = {}\n",
    "    \n",
    "    for t in teams:\n",
    "        w, l = 0, 0\n",
    "        w_streaks = win_streaks[t]\n",
    "        l_streaks = loss_streaks[t]\n",
    "        for s in w_streaks.keys():\n",
    "            w = w + s*w_streaks[s]\n",
    "        for s in l_streaks.keys():\n",
    "            l = l + s*l_streaks[s]\n",
    "        wins[t], losses[t] = w, l\n",
    "    \n",
    "    return wins, losses"
   ]
  },
  {
   "cell_type": "code",
   "execution_count": 29,
   "metadata": {
    "collapsed": false
   },
   "outputs": [
    {
     "name": "stdout",
     "output_type": "stream",
     "text": [
      "wins\n",
      "{'DET': 41, 'S.J': 46, 'MIN': 38, 'STL': 49, 'NYI': 45, 'WSH': 56, 'CHI': 47, 'FLA': 47, 'PHI': 41, 'T.B': 46, 'DAL': 50, 'NSH': 41, 'L.A': 48, 'PIT': 48, 'NYR': 46, 'ANA': 46}\n",
      "\n",
      "losses\n",
      "{'DET': 41, 'S.J': 36, 'MIN': 44, 'STL': 33, 'NYI': 37, 'WSH': 26, 'CHI': 35, 'FLA': 35, 'PHI': 41, 'T.B': 36, 'DAL': 32, 'NSH': 41, 'L.A': 34, 'PIT': 34, 'NYR': 36, 'ANA': 36}\n"
     ]
    }
   ],
   "source": [
    "win_number_20152016, loss_number_20152016 = wins_losses_from_streaks(wins_20152016, losses_20152016)\n",
    "print('wins')\n",
    "print(win_number_20152016)\n",
    "print('')\n",
    "print('losses')\n",
    "print(loss_number_20152016)"
   ]
  },
  {
   "cell_type": "code",
   "execution_count": 30,
   "metadata": {
    "collapsed": false
   },
   "outputs": [
    {
     "data": {
      "text/plain": [
       "[('WSH', 30),\n",
       " ('DAL', 18),\n",
       " ('STL', 16),\n",
       " ('PIT', 14),\n",
       " ('L.A', 14),\n",
       " ('FLA', 12),\n",
       " ('CHI', 12),\n",
       " ('ANA', 10),\n",
       " ('NYR', 10),\n",
       " ('T.B', 10),\n",
       " ('S.J', 10),\n",
       " ('NYI', 8),\n",
       " ('NSH', 0),\n",
       " ('PHI', 0),\n",
       " ('DET', 0),\n",
       " ('MIN', -6)]"
      ]
     },
     "execution_count": 30,
     "metadata": {},
     "output_type": "execute_result"
    }
   ],
   "source": [
    "def wins_losses_predict_rounds(teams, wins, losses):\n",
    "    ''' Input two dictionaries, convert to lists of tuples\n",
    "    for sorting and then combine into ordered list to output. '''\n",
    "\n",
    "    ranks = [(t, wins[t] - losses[t]) for t in wins.keys()]\n",
    "    \n",
    "    ranks = sorted(ranks, key=operator.itemgetter(1))[::-1]\n",
    "    \n",
    "#     # Correct for playoff format east vs west\n",
    "#     # Must be feeding in a sorted list of tuples\n",
    "#     # with the largest score as the first element\n",
    "#     E_teams = teams[:8]\n",
    "#     ''' Iterate over list checking \"manually\". '''\n",
    "#     east_team = lambda team: team[0] in E_teams\n",
    "#     east_west_ranks = []\n",
    "#     for i in range(len(ranks)):\n",
    "\n",
    "#         if i == 0:\n",
    "#             if east_team(ranks[0]):\n",
    "#                 E_boo = True\n",
    "#             else:\n",
    "#                 E_boo = False\n",
    "#             east_west_ranks.append(ranks.pop(0))\n",
    "#         elif i == 1:\n",
    "#             if E_boo:\n",
    "#                 for j in range(len(ranks)):\n",
    "#                     if not east_team(ranks[j]):\n",
    "#                         east_west_ranks.append(ranks.pop(j))\n",
    "#                         break\n",
    "#             else:\n",
    "#                 for j in range(len(ranks)):\n",
    "#                     if east_team(ranks[j]):\n",
    "#                         east_west_ranks.append(ranks.pop(j))\n",
    "#                         break\n",
    "\n",
    "#         elif i == 2:\n",
    "#             if east_team(ranks[0]):\n",
    "#                 E_boo = True\n",
    "#             else:\n",
    "#                 E_boo = False\n",
    "#             east_west_ranks.append(ranks.pop(0))\n",
    "#         elif i == 3:\n",
    "#             if E_boo:\n",
    "#                 for j in range(len(ranks)):\n",
    "#                     if not east_team(ranks[j]):\n",
    "#                         east_west_ranks.append(ranks.pop(j))\n",
    "#                         break\n",
    "#             else:\n",
    "#                 for j in range(len(ranks)):\n",
    "#                     if east_team(ranks[j]):\n",
    "#                         east_west_ranks.append(ranks.pop(j))\n",
    "#                         break\n",
    "\n",
    "#         elif 4 <= i <= 7:\n",
    "#             if i == 4:\n",
    "#                 EW_list = []\n",
    "#             if EW_list.count('E') == 2:\n",
    "#                 for j in range(len(ranks)):\n",
    "#                     if not east_team(ranks[j]):\n",
    "#                         EW_list.append('W')\n",
    "#                         #print(i, 'east full')\n",
    "#                         #print(ranks[j])\n",
    "#                         #print(EW_list)\n",
    "#                         east_west_ranks.append(ranks.pop(j))\n",
    "#                         break\n",
    "#             elif EW_list.count('W') == 2:\n",
    "#                 for j in range(len(ranks)):\n",
    "#                     if east_team(ranks[j]):\n",
    "#                         EW_list.append('E')\n",
    "#                         #print(i, 'west full')\n",
    "#                         #print(ranks[j])\n",
    "#                         #print(EW_list)\n",
    "#                         east_west_ranks.append(ranks.pop(j))\n",
    "#                         break\n",
    "#             else:\n",
    "#                 if east_team(ranks[0]):\n",
    "#                     EW_list.append('E')\n",
    "#                 else:\n",
    "#                     EW_list.append('W')\n",
    "#                 #print(i, 'none full')\n",
    "#                 #print(ranks[0])\n",
    "#                 #print(EW_list)\n",
    "#                 east_west_ranks.append(ranks.pop(0))\n",
    "\n",
    "#     for i in range(len(ranks)):\n",
    "#         east_west_ranks.append(ranks.pop(0))\n",
    "\n",
    "#     ranks = east_west_ranks\n",
    "\n",
    "    return ranks\n",
    "\n",
    "ranks = wins_losses_predict_rounds(teams_20152016, win_number_20152016, loss_number_20152016)\n",
    "ranks"
   ]
  },
  {
   "cell_type": "markdown",
   "metadata": {},
   "source": [
    "## Secondary future work\n",
    "### If matching to null hypothesis do one or more of the following\n",
    "#### - try optimizing loss streak coefficients separately from wins (non-symmetric)\n",
    "#### - let coefficients vary more rapidly to allow for stronger correlations between large win streaks and success\n",
    "#### - include more seasons (say, back to 2008)"
   ]
  },
  {
   "cell_type": "code",
   "execution_count": null,
   "metadata": {
    "collapsed": true
   },
   "outputs": [],
   "source": []
  }
 ],
 "metadata": {
  "kernelspec": {
   "display_name": "Python 3",
   "language": "python",
   "name": "python3"
  },
  "language_info": {
   "codemirror_mode": {
    "name": "ipython",
    "version": 3
   },
   "file_extension": ".py",
   "mimetype": "text/x-python",
   "name": "python",
   "nbconvert_exporter": "python",
   "pygments_lexer": "ipython3",
   "version": "3.5.1"
  }
 },
 "nbformat": 4,
 "nbformat_minor": 0
}
